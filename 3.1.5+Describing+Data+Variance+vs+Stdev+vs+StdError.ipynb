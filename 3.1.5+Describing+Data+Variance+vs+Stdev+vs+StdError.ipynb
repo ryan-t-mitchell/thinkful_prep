{
 "cells": [
  {
   "cell_type": "markdown",
   "metadata": {},
   "source": [
    "# 1) Greg was 14, Marcia was 12, Peter was 11, Jan was 10, Bobby was 8, and Cindy was 6 when they started playing the Brady kids on The Brady Bunch. Cousin Oliver was 8 years old when he joined the show. What are the mean, median, and mode of the kids' ages when they first appeared on the show? What are the variance, standard deviation, and standard error?"
   ]
  },
  {
   "cell_type": "code",
   "execution_count": 19,
   "metadata": {},
   "outputs": [
    {
     "name": "stdout",
     "output_type": "stream",
     "text": [
      "10.166666666666666\n",
      "10.5\n"
     ]
    }
   ],
   "source": [
    "import numpy as np\n",
    "import statistics\n",
    "\n",
    "ages = [14, 12, 11, 10, 8, 6]\n",
    "print(np.mean(ages))\n",
    "print(np.median(ages))\n",
    "#There is no valid mode (error msg)\n",
    "#print(statistics.mode(ages))"
   ]
  },
  {
   "cell_type": "code",
   "execution_count": 20,
   "metadata": {},
   "outputs": [
    {
     "name": "stdout",
     "output_type": "stream",
     "text": [
      "6.805555555555556\n",
      "2.608745973749755\n",
      "1.1666666666666667\n"
     ]
    }
   ],
   "source": [
    "print(np.var(ages))\n",
    "print(np.std(ages))\n",
    "print(np.std(ages)/((len(ages)-1)**0.5))"
   ]
  },
  {
   "cell_type": "markdown",
   "metadata": {},
   "source": [
    "# 2) Using these estimates, if you had to choose only one estimate of central tendency and one estimate of variance to describe the data, which would you pick and why?"
   ]
  },
  {
   "cell_type": "markdown",
   "metadata": {},
   "source": [
    "Mean or median is fine in this case. Probably would go with mean because there are no outliers in the data.\n",
    "\n",
    "For normally distributed data the standard deviation has some extra information, namely the 68-95-99.7 rule which tells us the percentage of data lying within 1, 2 or 3 standard deviation from the mean. Of course if the data are not normally distributed such interpretation is not valid. It remains that standard deviation can still be used as a measure of dispersion even for non-normally distributed data.\n",
    "\n",
    "The main use of the standard error of the mean is to give confidence intervals around the estimated MEAN where it follows the same 68-95-99.7 rule BUT this time not for the data itself but for the mean. This can also be extended to test (in terms of null hypothesis testing) differences between means. For example if the 95% confidence intervals around the estimated fish sizes under Treatment A do not cross the estimated mean fish size under Treatment B then fish sizes are significantly different from one another between the two Treatments. "
   ]
  },
  {
   "cell_type": "markdown",
   "metadata": {},
   "source": [
    "When to use standard deviation? When to use standard error?\n",
    "\n",
    "It depends. If the message you want to carry is about the spread and variability of the data, then standard deviation is the metric to use. If you are interested in the precision of the means or in comparing and testing differences between means then standard error is your metric. Of course deriving confidence intervals around your data (using standard deviation) or the mean (using standard error) requires your data to be normally distributed. Bootstrapping is an option to derive confidence intervals in cases when you are doubting the normality of your data."
   ]
  },
  {
   "cell_type": "markdown",
   "metadata": {},
   "source": [
    "When to use variance?\n",
    "\n",
    "Both variance and standard deviation are measures of spread.\n",
    "\n",
    "The reason that standard deviation is useful is that its units are the same as the units of the original data set, so it's meaningful to interpret it in the context of the original data (that is why we talk about \"X standard deviations from the mean\").\n",
    "\n",
    "The reason that variance is useful is that it's more convenient to work with when you're dealing with the underlying math, rather than dealing with actual data. Why? Because you can add two independent variances to get the total variance due to those factors. But, adding one standard deviation to another gives you a meaningless number.\n",
    "\n",
    "This helps when trying to determine the ratio of how much variation comes from one source or another. Example - if the total variance is 100 (sd = 10), and independent source A is responsible for 64 of that variance, while B has 36 of it, that's easy to see (A is responsible for 64% of the variation). If you used SD, A's would be 8, while B's would be 6, but the total is 10. That's much less intuitive to see the proportions (and as mentioned above, 8 + 6 = 14, which is meaningless here)."
   ]
  },
  {
   "cell_type": "markdown",
   "metadata": {},
   "source": [
    "# 3) Next, Cindy has a birthday. Update your estimates- what changed, and what didn't?"
   ]
  },
  {
   "cell_type": "code",
   "execution_count": 21,
   "metadata": {},
   "outputs": [
    {
     "name": "stdout",
     "output_type": "stream",
     "text": [
      "10.333333333333334\n",
      "10.5\n",
      "5.5555555555555545\n",
      "2.357022603955158\n",
      "1.0540925533894596\n"
     ]
    }
   ],
   "source": [
    "ages = [14, 12, 11, 10, 8, 7]\n",
    "print(np.mean(ages))\n",
    "print(np.median(ages))\n",
    "print(np.var(ages))\n",
    "print(np.std(ages))\n",
    "print(np.std(ages)/((len(ages)-1)**0.5))"
   ]
  },
  {
   "cell_type": "markdown",
   "metadata": {},
   "source": [
    "# 4) Nobody likes Cousin Oliver. Maybe the network should have used an even younger actor. Replace Cousin Oliver with 1-year-old Jessica, then recalculate again. Does this change your choice of central tendency or variance estimation methods?\n",
    "\n",
    "Mean no longer makes sense to use due to outlier in the age data. This would also rule out the usage of standard error for the variance estimation. Should now use median and standard deviation.\n",
    "\n",
    "# 5) On the 50th anniversary of The Brady Bunch, four different magazines asked their readers whether they were fans of the show. The answers were: TV Guide 20% fans Entertainment Weekly 23% fans Pop Culture Today 17% fans SciPhi Phanatic 5% fans. Based on these numbers, what percentage of adult Americans would you estimate were Brady Bunch fans on the 50th anniversary of the show?\n",
    "\n",
    "Throw out the 5% because it's from a Sci-Fi magazine and is a biased sample."
   ]
  }
 ],
 "metadata": {
  "kernelspec": {
   "display_name": "Python 3",
   "language": "python",
   "name": "python3"
  },
  "language_info": {
   "codemirror_mode": {
    "name": "ipython",
    "version": 3
   },
   "file_extension": ".py",
   "mimetype": "text/x-python",
   "name": "python",
   "nbconvert_exporter": "python",
   "pygments_lexer": "ipython3",
   "version": "3.6.5"
  }
 },
 "nbformat": 4,
 "nbformat_minor": 2
}
