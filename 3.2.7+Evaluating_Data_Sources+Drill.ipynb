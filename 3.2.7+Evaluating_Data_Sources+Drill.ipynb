{
 "cells": [
  {
   "cell_type": "markdown",
   "metadata": {},
   "source": [
    "1) Data Source: Amsterdam availability data scraped from AirBnB on December 24th. Question: What are the popular neighborhoods in Amsterdam?\n",
    "\n",
    "*Amsterdam availability data scraped from AirBnB on December 24th:\n",
    "\n",
    "Christmastime will bias availability in two ways- more AirBnBs may be taken due to vacationers, or fewer AirBnBs may be on offer because people don’t want to share their homes over the holidays. Choose a sampling period that doesn’t include a major holiday, or reframe the question to focus on popular neighborhoods during major holidays.\n",
    "\n",
    "2) Data Source: Mental health services use on September 12, 2001 in San Francisco, CA and New York City, NY. Question: How do patterns of mental health service use vary between cities?\n",
    "\n",
    "*Mental health services use on September 12, 2001 in San Francisco, CA and New York City, NY: Given the terrorist attack on NYC the day before, patterns of mental health services use are likely to be very different in the two cities-- even if they were pretty similar on September 10, 2001. Reframe the question to mental health use in the aftermath of a nearby vs distant crisis, perhaps.\n",
    "\n",
    "3) Data Source: Armenian Pub Survey. Question: What are the most common reasons Armenians visit local pubs?\n",
    "\n",
    "*Armenian Pub Survey: Respondents are all university students. Reframe to ‘university students’ reasons to visit pubs.’"
   ]
  },
  {
   "cell_type": "code",
   "execution_count": null,
   "metadata": {},
   "outputs": [],
   "source": []
  }
 ],
 "metadata": {
  "kernelspec": {
   "display_name": "Python 3",
   "language": "python",
   "name": "python3"
  },
  "language_info": {
   "codemirror_mode": {
    "name": "ipython",
    "version": 3
   },
   "file_extension": ".py",
   "mimetype": "text/x-python",
   "name": "python",
   "nbconvert_exporter": "python",
   "pygments_lexer": "ipython3",
   "version": "3.6.5"
  }
 },
 "nbformat": 4,
 "nbformat_minor": 2
}
