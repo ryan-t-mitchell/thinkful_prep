{
 "cells": [
  {
   "cell_type": "markdown",
   "metadata": {},
   "source": [
    "1) You are on a game show and given the choice of whatever is behind three doors. Behind one door is a fantastic prize (some examples use a car, others use cash) while behind the other two doors is a dud (some examples say a goat, others say it's just empty). You pick a door. Then the host opens one of the other two doors to reveal a dud. But here's the wrinkle: the host now gives you the opportunity to switch your door. What should you do?\n",
    "\n",
    "Write up some notes on this problem, including how you think Bayes' Rule might apply. Drop a link to your notes below and discuss it with your mentor.\n",
    "\n",
    "You should switch to the other door. When you first choose a door, you have a ⅓ chance of having selected the correct door, which means there is a ⅔ chance that the prize is behind one of the other doors. Regardless of whether your door has the prize or not, the host will always have 1 door to open that does not contain the prize. By opening a door without a prize, it does not provide new information about the door you chose (since the host knows where the prize is, him opening an empty door does not change the probability that your door has a prize or not, but it does change the probability that the OTHER door has the prize). So your door still has a ⅓ chance of having the prize. That means that the other door has a ⅔ chance of having the prize, and you should switch. \n",
    "\n",
    "Bayes’ Theorem Explanation:\n",
    "\n",
    "Let’s say we pick door 1. \n",
    "Monty can open either door 2 or door 3 (equally likely). For simplicity, let’s say he opens door 3.\n",
    "\n",
    "So we want to know what the probability that the car is behind door 2 is in this scenario, to see if it is worth it to switch. This can be represented as P(C2|O3).\n",
    "\n",
    "Using Bayes’ Formula:\n",
    "P(C2|O3) = [ P(O3|C2) * P(C2) ] / P(O3) = [ 1 * (⅓) ] / ½ = ⅔\n",
    "\n",
    "Explained:\n",
    "\n",
    "P(O3|C2) = Prob that he opens door 3 if the car is at door 2 = 1, because we selected door 1, so door 3 is his only choice.\n",
    "\n",
    "P(C2) = Prob that the car is in door 2 is ⅓ (the prior probability is used here)\n",
    "\n",
    "In our example, we chose door 1, so the probability that he opens door 3 is ½. \n",
    "\n",
    "So we have shown that it is better to switch (⅔ chance vs ⅓ if you stay).\n"
   ]
  },
  {
   "cell_type": "code",
   "execution_count": null,
   "metadata": {},
   "outputs": [],
   "source": []
  }
 ],
 "metadata": {
  "kernelspec": {
   "display_name": "Python 3",
   "language": "python",
   "name": "python3"
  },
  "language_info": {
   "codemirror_mode": {
    "name": "ipython",
    "version": 3
   },
   "file_extension": ".py",
   "mimetype": "text/x-python",
   "name": "python",
   "nbconvert_exporter": "python",
   "pygments_lexer": "ipython3",
   "version": "3.6.5"
  }
 },
 "nbformat": 4,
 "nbformat_minor": 2
}
